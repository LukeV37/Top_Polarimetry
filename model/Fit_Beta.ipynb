{
 "cells": [
  {
   "cell_type": "code",
   "execution_count": 1,
   "id": "5665720e",
   "metadata": {},
   "outputs": [
    {
     "name": "stdout",
     "output_type": "stream",
     "text": [
      "Welcome to JupyROOT 6.28/09\n"
     ]
    }
   ],
   "source": [
    "import pickle\n",
    "import ROOT\n",
    "import numpy as np\n",
    "import pandas as pd\n",
    "\n",
    "from ROOT import TH1F, TCanvas"
   ]
  },
  {
   "cell_type": "code",
   "execution_count": 2,
   "id": "7fb192ca",
   "metadata": {},
   "outputs": [],
   "source": [
    "with open(\"results.root\", \"rb\") as f:\n",
    "    data = pickle.load(f)"
   ]
  },
  {
   "cell_type": "code",
   "execution_count": 3,
   "id": "4b217db4",
   "metadata": {},
   "outputs": [],
   "source": [
    "cos_theta_true_L = data[\"cos_theta_true_L\"]\n",
    "cos_theta_pred_L = data[\"cos_theta_pred_L\"]\n",
    "cos_theta_true_R = data[\"cos_theta_true_R\"]\n",
    "cos_theta_pred_R = data[\"cos_theta_pred_R\"]"
   ]
  },
  {
   "cell_type": "code",
   "execution_count": 4,
   "id": "c04bd82d",
   "metadata": {},
   "outputs": [],
   "source": [
    "def fit_beta(angles, title, polarization, results):\n",
    "    # Convert list to numpy array\n",
    "    angles = np.array(angles)\n",
    "    \n",
    "    # Define polarization\n",
    "    if \"L\" in polarization:\n",
    "        p=-1\n",
    "    if \"R\" in polarization:\n",
    "        p=1    \n",
    "    \n",
    "    # Book Histogram\n",
    "    hist_angles = TH1F( title, title, 100, -1, 1 )\n",
    "\n",
    "    # Book Canvas\n",
    "    c = ROOT.TCanvas(\"c\", \"Histogram Canvas\", 800, 600)\n",
    "    \n",
    "    # Fill Histogram\n",
    "    for angle in angles:\n",
    "        hist_angles.Fill(angle)\n",
    "        \n",
    "    # Draw Histogram\n",
    "    hist_angles.Draw()\n",
    "    #c.SaveAs(title+\".png\")\n",
    "    #c.Draw()\n",
    "        \n",
    "    # Define Custom Fit Function\n",
    "    def beta_function(costheta, parameters):\n",
    "        return 1/2*(1+parameters[0]*costheta[0])\n",
    "    \n",
    "    # Initialize Fit Function\n",
    "    fit = ROOT.TF1(\"fit\", beta_function, -1, 1, 1)\n",
    "    fit.SetParameters(0)\n",
    "    fit.SetParNames(\"p*Beta\")\n",
    "    \n",
    "    # Perform Fit\n",
    "    hist_angles.Fit(fit, \"q\")\n",
    "    \n",
    "    # Print Results\n",
    "    fitted_beta = fit.GetParameters()[0]*p\n",
    "    method_2 = np.mean(angles)*3*p\n",
    "    positive_angles = len(angles[angles>0])\n",
    "    negative_angles = len(angles[angles<0])\n",
    "    method_3 = (positive_angles-negative_angles)/(positive_angles+negative_angles)*2*p\n",
    "        \n",
    "    new_row = pd.DataFrame([{'method1': fitted_beta, 'method2': method_2, 'method3': method_3}], index=[title])\n",
    "\n",
    "    df = pd.concat([results, new_row])\n",
    "    \n",
    "    return df"
   ]
  },
  {
   "cell_type": "code",
   "execution_count": 5,
   "id": "28bf718d",
   "metadata": {},
   "outputs": [],
   "source": [
    "results_DF = pd.DataFrame({'method1': [],\n",
    "                         'method2': [],\n",
    "                         'method3': [],\n",
    "                        })"
   ]
  },
  {
   "cell_type": "code",
   "execution_count": 6,
   "id": "ac22eb0e",
   "metadata": {},
   "outputs": [],
   "source": [
    "results_DF = fit_beta(cos_theta_true_L, \"true_L\", \"L\", results_DF)\n",
    "results_DF = fit_beta(cos_theta_pred_L, \"pred_L\", \"L\", results_DF)\n",
    "results_DF = fit_beta(cos_theta_true_R, \"true_R\", \"R\", results_DF)\n",
    "results_DF = fit_beta(cos_theta_pred_R, \"pred_R\", \"R\", results_DF)"
   ]
  },
  {
   "cell_type": "code",
   "execution_count": 7,
   "id": "969e5adb",
   "metadata": {},
   "outputs": [
    {
     "name": "stdout",
     "output_type": "stream",
     "text": [
      "         method1   method2   method3\n",
      "true_L  0.993185  1.011050  0.951820\n",
      "pred_L  0.674366  0.722116  0.704289\n",
      "true_R  1.011147  1.073316  1.096108\n",
      "pred_R  0.640584  0.667085  0.656086\n"
     ]
    }
   ],
   "source": [
    "print(results_DF)"
   ]
  },
  {
   "cell_type": "code",
   "execution_count": null,
   "id": "b601445a",
   "metadata": {},
   "outputs": [],
   "source": []
  }
 ],
 "metadata": {
  "kernelspec": {
   "display_name": "torch",
   "language": "python",
   "name": "torch"
  },
  "language_info": {
   "codemirror_mode": {
    "name": "ipython",
    "version": 3
   },
   "file_extension": ".py",
   "mimetype": "text/x-python",
   "name": "python",
   "nbconvert_exporter": "python",
   "pygments_lexer": "ipython3",
   "version": "3.10.12"
  }
 },
 "nbformat": 4,
 "nbformat_minor": 5
}
