{
 "cells": [
  {
   "cell_type": "code",
   "execution_count": 1,
   "id": "dbcd6622",
   "metadata": {},
   "outputs": [],
   "source": [
    "import pickle\n",
    "import numpy as np\n",
    "import matplotlib.pyplot as plt\n",
    "import matplotlib.colors as mcolors\n",
    "\n",
    "import torch\n",
    "import torch.nn as nn\n",
    "import torch.nn.functional as F\n",
    "import torch.optim as optim\n",
    "\n",
    "from sklearn.metrics import mean_absolute_error, root_mean_squared_error, r2_score, roc_auc_score"
   ]
  },
  {
   "cell_type": "code",
   "execution_count": 2,
   "id": "622abff1",
   "metadata": {},
   "outputs": [],
   "source": [
    "with open(\"data_batched_combined.pkl\",\"rb\") as f:\n",
    "    data_dict = pickle.load( f )"
   ]
  },
  {
   "cell_type": "code",
   "execution_count": 3,
   "id": "bef5ac4b",
   "metadata": {},
   "outputs": [
    {
     "name": "stdout",
     "output_type": "stream",
     "text": [
      "Training Batches:  61\n",
      "Validation Batches:  5\n",
      "Testing Batches:  22\n"
     ]
    }
   ],
   "source": [
    "num_events = len(data_dict[\"label_batch\"])\n",
    "\n",
    "train_split = int(0.7 * num_events)\n",
    "test_split = int(0.75 * num_events)\n",
    "\n",
    "X_train_jet = data_dict[\"jet_batch\"][0:train_split]\n",
    "X_train_jet_trk = data_dict[\"jet_trk_batch\"][0:train_split]\n",
    "X_train_trk = data_dict[\"trk_batch\"][0:train_split]\n",
    "y_train = data_dict[\"label_batch\"][0:train_split]\n",
    "\n",
    "X_val_jet = data_dict[\"jet_batch\"][train_split:test_split]\n",
    "X_val_jet_trk = data_dict[\"jet_trk_batch\"][train_split:test_split]\n",
    "X_val_trk = data_dict[\"trk_batch\"][train_split:test_split]\n",
    "y_val = data_dict[\"label_batch\"][train_split:test_split]\n",
    "\n",
    "X_test_jet = data_dict[\"jet_batch\"][test_split:]\n",
    "X_test_jet_trk = data_dict[\"jet_trk_batch\"][test_split:]\n",
    "X_test_trk = data_dict[\"trk_batch\"][test_split:]\n",
    "y_test = data_dict[\"label_batch\"][test_split:]\n",
    "\n",
    "print(\"Training Batches: \", len(y_train))\n",
    "print(\"Validation Batches: \", len(y_val))\n",
    "print(\"Testing Batches: \", len(y_test))"
   ]
  },
  {
   "cell_type": "code",
   "execution_count": 4,
   "id": "aceaea31",
   "metadata": {},
   "outputs": [],
   "source": [
    "class Encoder(nn.Module):\n",
    "    def __init__(self, embed_dim, num_heads):\n",
    "        super(Encoder, self).__init__()\n",
    "        self.pre_norm_Q = nn.LayerNorm(embed_dim)\n",
    "        self.pre_norm_K = nn.LayerNorm(embed_dim)\n",
    "        self.pre_norm_V = nn.LayerNorm(embed_dim)\n",
    "        self.attention = nn.MultiheadAttention(embed_dim,num_heads=num_heads,batch_first=True, dropout=0.25)\n",
    "        self.post_norm = nn.LayerNorm(embed_dim)\n",
    "        self.out = nn.Linear(embed_dim,embed_dim)\n",
    "    def forward(self, Query, Key, Value):\n",
    "        Query = self.pre_norm_Q(Query)\n",
    "        Key = self.pre_norm_K(Key)\n",
    "        Value = self.pre_norm_V(Value)\n",
    "        context, weights = self.attention(Query, Key, Value)\n",
    "        context = self.post_norm(context)\n",
    "        latent = Query + context\n",
    "        tmp = F.gelu(self.out(latent))\n",
    "        latent = latent + tmp\n",
    "        return latent, weights"
   ]
  },
  {
   "cell_type": "code",
   "execution_count": 5,
   "id": "eb5cddcb",
   "metadata": {},
   "outputs": [],
   "source": [
    "class Model(nn.Module):  \n",
    "    def __init__(self):\n",
    "        super(Model, self).__init__()   \n",
    "        \n",
    "        self.embed_dim = 32\n",
    "        self.num_heads = 8\n",
    "        self.num_jet_feats = 4\n",
    "        self.num_trk_feats = 8\n",
    "        \n",
    "        self.jet_initializer = nn.Linear(self.num_jet_feats, self.embed_dim)\n",
    "        self.jet_trk_initializer = nn.Linear(self.num_trk_feats, self.embed_dim)\n",
    "        self.trk_initializer = nn.Linear(self.num_trk_feats, self.embed_dim)\n",
    "           \n",
    "        # Track Encoder Stack\n",
    "        self.jet_trk_encoder = Encoder(self.embed_dim, self.num_heads)\n",
    "        self.trk_encoder = Encoder(self.embed_dim, self.num_heads)\n",
    "        \n",
    "        # Cross Encoder Stack\n",
    "        self.jet_trk_cross_encoder = Encoder(self.embed_dim, self.num_heads)\n",
    "        self.trk_cross_encoder = Encoder(self.embed_dim, self.num_heads)\n",
    "        \n",
    "        # Classification Task\n",
    "        self.classification = nn.Linear(self.embed_dim, 1)\n",
    "        \n",
    "    def forward(self, jets, jet_trks, trks):\n",
    "        \n",
    "        # Feature preprocessing layers\n",
    "        jet_embedding = F.gelu(self.jet_initializer(jets))\n",
    "        jet_trk_embedding = F.gelu(self.jet_trk_initializer(jet_trks))\n",
    "        trk_embedding = F.gelu(self.trk_initializer(trks))\n",
    "        \n",
    "        # Jet Track Attention\n",
    "        jet_trk_embedding, jet_trk_weights = self.jet_trk_encoder(jet_trk_embedding, jet_trk_embedding, jet_trk_embedding)\n",
    "    \n",
    "        # Cross Attention (Local)\n",
    "        jet_embedding = torch.unsqueeze(jet_embedding, 1)\n",
    "        jet_embedding, cross_weights = self.jet_trk_cross_encoder(jet_embedding, jet_trk_embedding, jet_trk_embedding)\n",
    "\n",
    "        # Track Attention\n",
    "        trk_embedding, trk_weights = self.trk_encoder(trk_embedding, trk_embedding, trk_embedding)\n",
    "        \n",
    "        # Cross Attention (Global)\n",
    "        jet_embedding, cross_weights = self.trk_cross_encoder(jet_embedding, trk_embedding, trk_embedding)\n",
    "    \n",
    "        # Get output\n",
    "        #output = 2*torch.ravel(F.sigmoid(self.regression(jet_embedding)))-1\n",
    "        jet_embedding = torch.squeeze(jet_embedding,1)\n",
    "        output = F.sigmoid(self.classification(jet_embedding))\n",
    "        \n",
    "        return output"
   ]
  },
  {
   "cell_type": "code",
   "execution_count": 6,
   "id": "6550f806",
   "metadata": {},
   "outputs": [],
   "source": [
    "# ### Define Training Loop\n",
    "def train(X_train_jet, X_train_jet_trk, X_train_trk, y_train, \n",
    "          X_val_jet, X_val_jet_trk, X_val_trk, y_val, \n",
    "          epochs=40):\n",
    "    \n",
    "    combined_history = []\n",
    "    \n",
    "    num_train = len(X_train_jet)\n",
    "    num_val = len(X_val_jet)\n",
    "    \n",
    "    step_size=80\n",
    "    gamma=0.1\n",
    "    scheduler = torch.optim.lr_scheduler.StepLR(optimizer, step_size=step_size, gamma=gamma)\n",
    "    for e in range(epochs):\n",
    "        model.train()\n",
    "        cumulative_loss_train = 0\n",
    "\n",
    "        for i in range(num_train):\n",
    "            optimizer.zero_grad()\n",
    "            \n",
    "            output = model(X_train_jet[i].to(device), \n",
    "                           X_train_jet_trk[i].to(device),\n",
    "                           X_train_trk[i].to(device),\n",
    "                          )\n",
    "            \n",
    "            loss=loss_fn(output, y_train[i].to(device))\n",
    "            \n",
    "            loss.backward()\n",
    "            optimizer.step()\n",
    "                        \n",
    "            cumulative_loss_train+=loss.detach().cpu().numpy().mean()\n",
    "            \n",
    "        cumulative_loss_train = cumulative_loss_train / num_train\n",
    "        \n",
    "        model.eval()\n",
    "        cumulative_loss_val = 0\n",
    "        for i in range(num_val):\n",
    "            output = model(X_val_jet[i].to(device), \n",
    "                           X_val_jet_trk[i].to(device),\n",
    "                           X_val_trk[i].to(device),\n",
    "                          )\n",
    "            \n",
    "            loss=loss_fn(output, y_val[i].to(device))\n",
    "            \n",
    "            cumulative_loss_val+=loss.detach().cpu().numpy().mean()\n",
    "            \n",
    "            \n",
    "        scheduler.step()\n",
    "            \n",
    "        cumulative_loss_val = cumulative_loss_val / num_val\n",
    "        combined_history.append([cumulative_loss_train, cumulative_loss_val])\n",
    "\n",
    "        if e%1==0:\n",
    "            print('Epoch:',e+1,'\\tTrain Loss:',round(cumulative_loss_train,6),'\\tVal Loss:',round(cumulative_loss_val,6))\n",
    " \n",
    "        if (e+1)%step_size==0:\n",
    "            print(\"\\tReducing Step Size by \", gamma)\n",
    "            \n",
    "        torch.cuda.empty_cache()\n",
    "            \n",
    "    return np.array(combined_history)"
   ]
  },
  {
   "cell_type": "code",
   "execution_count": 7,
   "id": "4b5769fe",
   "metadata": {},
   "outputs": [
    {
     "name": "stdout",
     "output_type": "stream",
     "text": [
      "GPU Available:  True\n",
      "cuda:0\n",
      "\n"
     ]
    }
   ],
   "source": [
    "print(\"GPU Available: \", torch.cuda.is_available())\n",
    "device = torch.device(\"cuda:0\" if torch.cuda.is_available() else \"cpu\")\n",
    "print(device)\n",
    "print()"
   ]
  },
  {
   "cell_type": "code",
   "execution_count": 8,
   "id": "0cc93c23",
   "metadata": {},
   "outputs": [
    {
     "name": "stdout",
     "output_type": "stream",
     "text": [
      "Trainable Parameters : 22913\n"
     ]
    }
   ],
   "source": [
    "model = Model()\n",
    "model.to(device)\n",
    "print(\"Trainable Parameters :\", sum(p.numel() for p in model.parameters() if p.requires_grad))"
   ]
  },
  {
   "cell_type": "code",
   "execution_count": 9,
   "id": "9617000d",
   "metadata": {},
   "outputs": [],
   "source": [
    "Epochs=20\n",
    "optimizer = optim.AdamW(model.parameters(), lr=0.0001)\n",
    "loss_fn = nn.BCELoss()"
   ]
  },
  {
   "cell_type": "code",
   "execution_count": 10,
   "id": "6925ff4f",
   "metadata": {},
   "outputs": [
    {
     "name": "stdout",
     "output_type": "stream",
     "text": [
      "Epoch: 1 \tTrain Loss: 0.697949 \tVal Loss: 0.690373\n",
      "Epoch: 2 \tTrain Loss: 0.689237 \tVal Loss: 0.688909\n",
      "Epoch: 3 \tTrain Loss: 0.686008 \tVal Loss: 0.689235\n",
      "Epoch: 4 \tTrain Loss: 0.684622 \tVal Loss: 0.689674\n",
      "Epoch: 5 \tTrain Loss: 0.683359 \tVal Loss: 0.690006\n",
      "Epoch: 6 \tTrain Loss: 0.682086 \tVal Loss: 0.690411\n",
      "Epoch: 7 \tTrain Loss: 0.681444 \tVal Loss: 0.690872\n",
      "Epoch: 8 \tTrain Loss: 0.681038 \tVal Loss: 0.690859\n",
      "Epoch: 9 \tTrain Loss: 0.679445 \tVal Loss: 0.691422\n",
      "Epoch: 10 \tTrain Loss: 0.678864 \tVal Loss: 0.69103\n",
      "Epoch: 11 \tTrain Loss: 0.678246 \tVal Loss: 0.6915\n",
      "Epoch: 12 \tTrain Loss: 0.677261 \tVal Loss: 0.691185\n",
      "Epoch: 13 \tTrain Loss: 0.678188 \tVal Loss: 0.691624\n",
      "Epoch: 14 \tTrain Loss: 0.676704 \tVal Loss: 0.691512\n",
      "Epoch: 15 \tTrain Loss: 0.676663 \tVal Loss: 0.691377\n",
      "Epoch: 16 \tTrain Loss: 0.675366 \tVal Loss: 0.691576\n",
      "Epoch: 17 \tTrain Loss: 0.674813 \tVal Loss: 0.692257\n",
      "Epoch: 18 \tTrain Loss: 0.674471 \tVal Loss: 0.692588\n",
      "Epoch: 19 \tTrain Loss: 0.674866 \tVal Loss: 0.692036\n",
      "Epoch: 20 \tTrain Loss: 0.673572 \tVal Loss: 0.692228\n"
     ]
    }
   ],
   "source": [
    "#%%time\n",
    "combined_history = train(X_train_jet, X_train_jet_trk, X_train_trk, y_train, \n",
    "                         X_val_jet, X_val_jet_trk, X_val_trk, y_val,\n",
    "                         epochs=Epochs)\n",
    "torch.save(model,\"model.torch\")"
   ]
  },
  {
   "cell_type": "code",
   "execution_count": 11,
   "id": "ffc006d6",
   "metadata": {},
   "outputs": [
    {
     "data": {
      "image/png": "[encoded data removed]",
      "text/plain": [
       "<Figure size 640x480 with 1 Axes>"
      ]
     },
     "metadata": {},
     "output_type": "display_data"
    }
   ],
   "source": [
    "plt.figure()\n",
    "plt.plot(combined_history[:,0], label=\"Train\")\n",
    "plt.plot(combined_history[:,1], label=\"Val\")\n",
    "plt.title('Loss')\n",
    "plt.legend()\n",
    "plt.yscale('log')\n",
    "plt.savefig(\"Loss_Curve.png\")\n",
    "plt.show()"
   ]
  },
  {
   "cell_type": "code",
   "execution_count": 12,
   "id": "123273d9",
   "metadata": {},
   "outputs": [
    {
     "name": "stdout",
     "output_type": "stream",
     "text": [
      "Train Loss:\t 0.67357206\n",
      "Val Loss:\t 0.692228\n",
      "Test Loss:\t 0.6871624\n",
      "\n",
      "Test MAE:\t 0.4943790105806494\n",
      "Test RMSE:\t 0.4970078680561173\n"
     ]
    }
   ],
   "source": [
    "# ### Evaluate Model\n",
    "\n",
    "model.eval()\n",
    "cumulative_loss_test = 0\n",
    "predicted_labels = []\n",
    "true_labels = []\n",
    "binary_pred = []\n",
    "binary_true = []\n",
    "\n",
    "predicted_labels = np.array([]).reshape(0,1)\n",
    "true_labels = np.array([]).reshape(0,1)\n",
    "\n",
    "num_test = len(X_test_jet)\n",
    "for i in range(num_test):\n",
    "    output = model(X_test_jet[i].to(device), \n",
    "                   X_test_jet_trk[i].to(device),\n",
    "                   X_test_trk[i].to(device),\n",
    "                  )\n",
    "    \n",
    "    torch.cuda.empty_cache()\n",
    "    \n",
    "    loss=loss_fn(output, y_test[i].to(device))\n",
    "    cumulative_loss_test+=loss.detach().cpu().numpy().mean()\n",
    "      \n",
    "    predicted_labels = np.vstack((predicted_labels,output.detach().cpu().numpy()))\n",
    "    true_labels = np.vstack((true_labels,y_test[i].detach().cpu().numpy()))\n",
    "    \n",
    "cumulative_loss_test = cumulative_loss_test / num_test\n",
    "    \n",
    "print(\"Train Loss:\\t\", combined_history[-1][0])\n",
    "print(\"Val Loss:\\t\", combined_history[-1][1])\n",
    "print(\"Test Loss:\\t\", cumulative_loss_test)\n",
    "print()\n",
    "print(\"Test MAE:\\t\", mean_absolute_error(true_labels, predicted_labels))\n",
    "print(\"Test RMSE:\\t\", root_mean_squared_error(true_labels, predicted_labels))"
   ]
  },
  {
   "cell_type": "code",
   "execution_count": 20,
   "id": "24c5d85f",
   "metadata": {},
   "outputs": [],
   "source": [
    "L = true_labels==0\n",
    "R = true_labels==1"
   ]
  },
  {
   "cell_type": "code",
   "execution_count": 21,
   "id": "9fa06f65",
   "metadata": {},
   "outputs": [
    {
     "data": {
      "image/png": "[encoded data removed]",
      "text/plain": [
       "<Figure size 640x480 with 1 Axes>"
      ]
     },
     "metadata": {},
     "output_type": "display_data"
    }
   ],
   "source": [
    "plt.figure()\n",
    "plt.hist(true_labels,histtype='step',color='r',label='True Distribution',bins=50,range=(0,1))\n",
    "plt.hist(predicted_labels[L],histtype='step',color='b',label='Left Polarized',bins=50,range=(0,1))\n",
    "plt.hist(predicted_labels[R],histtype='step',color='g',label='Right Polarized',bins=50,range=(0,1))\n",
    "\n",
    "plt.title(\"Predicted Ouput Distribution using Attention Model\")\n",
    "plt.legend()\n",
    "plt.yscale('log')\n",
    "plt.xlabel('IsPolarized',loc='right')\n",
    "plt.savefig(\"pred_1d.png\")\n",
    "\n",
    "plt.text(0.6,100,\"ROC AUC: \"+str(round(roc_auc_score(true_labels, predicted_labels),3)))\n",
    "\n",
    "plt.show()\n"
   ]
  },
  {
   "cell_type": "code",
   "execution_count": null,
   "id": "d2953fdf",
   "metadata": {},
   "outputs": [],
   "source": []
  }
 ],
 "metadata": {
  "kernelspec": {
   "display_name": "torch",
   "language": "python",
   "name": "torch"
  },
  "language_info": {
   "codemirror_mode": {
    "name": "ipython",
    "version": 3
   },
   "file_extension": ".py",
   "mimetype": "text/x-python",
   "name": "python",
   "nbconvert_exporter": "python",
   "pygments_lexer": "ipython3",
   "version": "3.10.12"
  }
 },
 "nbformat": 4,
 "nbformat_minor": 5
}
