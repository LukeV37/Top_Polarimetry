{
 "cells": [
  {
   "cell_type": "code",
   "execution_count": 1,
   "id": "dbcd6622",
   "metadata": {},
   "outputs": [],
   "source": [
    "import pickle\n",
    "import awkward as ak\n",
    "import numpy as np\n",
    "import torch"
   ]
  },
  {
   "cell_type": "code",
   "execution_count": 2,
   "id": "75b068f4",
   "metadata": {},
   "outputs": [],
   "source": [
    "tag = \"_L_100k\""
   ]
  },
  {
   "cell_type": "code",
   "execution_count": 3,
   "id": "622abff1",
   "metadata": {},
   "outputs": [],
   "source": [
    "with open(\"data\"+tag+\".pkl\",\"rb\") as f:\n",
    "    data_dict = pickle.load( f )\n",
    "jet_feats = data_dict[\"jet_feats\"]\n",
    "jet_trk_feats = data_dict[\"jet_trk_feats\"]\n",
    "trk_feats = data_dict[\"trk_feats\"]\n",
    "labels = data_dict[\"labels\"]"
   ]
  },
  {
   "cell_type": "code",
   "execution_count": 4,
   "id": "41a176fa",
   "metadata": {},
   "outputs": [],
   "source": [
    "p = np.random.permutation(len(labels))\n",
    "\n",
    "jet_feats = jet_feats[p]\n",
    "jet_trk_feats = jet_trk_feats[p]\n",
    "trk_feats = trk_feats[p]\n",
    "labels = labels[p]"
   ]
  },
  {
   "cell_type": "code",
   "execution_count": 5,
   "id": "aad68980",
   "metadata": {},
   "outputs": [],
   "source": [
    "num_trks = ak.num(jet_trk_feats)\n",
    "sort = ak.argsort(num_trks)\n",
    "\n",
    "jet_feats = jet_feats[sort]\n",
    "jet_trk_feats = jet_trk_feats[sort]\n",
    "trk_feats = trk_feats[sort]\n",
    "labels = labels[sort]"
   ]
  },
  {
   "cell_type": "code",
   "execution_count": 6,
   "id": "4b2ef749",
   "metadata": {},
   "outputs": [
    {
     "name": "stdout",
     "output_type": "stream",
     "text": [
      "\tPadding Batch:  434  /  434\r"
     ]
    }
   ],
   "source": [
    "batch_size = 64\n",
    "num_batches = int(len(labels)/batch_size)\n",
    "\n",
    "num_feats=len(trk_feats[0][0])\n",
    "\n",
    "jet_feats_batch = []\n",
    "jet_trk_feats_batch = []\n",
    "trk_feats_batch = []\n",
    "labels_batch = []\n",
    "#fromDown_batch = []\n",
    "\n",
    "for batch in range(num_batches):\n",
    "    if batch%1==0:\n",
    "        print(\"\\tPadding Batch: \", batch+1, \" / \", num_batches, end=\"\\r\")\n",
    "    \n",
    "    jet_trk_feat_list = []\n",
    "    for feat in range(num_feats):\n",
    "        batch_jet_trk_feats = jet_trk_feats[batch*batch_size:(batch+1)*batch_size,:,feat]        \n",
    "        max_num_trks = ak.max(ak.num(batch_jet_trk_feats))\n",
    "        pad_feat = ak.fill_none(ak.pad_none(batch_jet_trk_feats, max_num_trks, axis=1), 0)\n",
    "        jet_trk_feat_list.append(pad_feat)\n",
    "        \n",
    "    jet_trk_feat_list = [x[:,:,np.newaxis] for x in jet_trk_feat_list]\n",
    "    jet_trk_feats_combined = ak.concatenate(jet_trk_feat_list, axis=2)\n",
    "        \n",
    "    trk_feat_list = []\n",
    "    for feat in range(num_feats):\n",
    "        batch_trk_feats = trk_feats[batch*batch_size:(batch+1)*batch_size,:,feat]        \n",
    "        max_num_trks = ak.max(ak.num(batch_trk_feats))\n",
    "        pad_feat = ak.fill_none(ak.pad_none(batch_trk_feats, max_num_trks, axis=1), 0)\n",
    "        trk_feat_list.append(pad_feat)\n",
    "\n",
    "    trk_feat_list = [x[:,:,np.newaxis] for x in trk_feat_list]\n",
    "    trk_feats_combined = ak.concatenate(trk_feat_list, axis=2)\n",
    "        \n",
    "    #batch_jet_trk_labels = fromDown[batch*batch_size:(batch+1)*batch_size]\n",
    "    #pad_label = ak.fill_none(ak.pad_none(batch_trk_labels, max_num_trks, axis=1), 0)  \n",
    "    \n",
    "    jet_tensor = torch.tensor(jet_feats[batch*batch_size:(batch+1)*batch_size], dtype=torch.float32)\n",
    "    jet_trk_tensor = torch.tensor(jet_trk_feats_combined, dtype=torch.float32)\n",
    "    trk_tensor = torch.tensor(trk_feats_combined, dtype=torch.float32)\n",
    "    labels_tensor = torch.tensor(labels[batch*batch_size:(batch+1)*batch_size], dtype=torch.float32)\n",
    "    #fromDown_tensor = torch.unsqueeze(torch.tensor(pad_label, dtype=torch.float32),2)\n",
    "        \n",
    "    jet_feats_batch.append(jet_tensor)\n",
    "    jet_trk_feats_batch.append(jet_trk_tensor)\n",
    "    trk_feats_batch.append(trk_tensor)\n",
    "    labels_batch.append(labels_tensor)\n",
    "    #fromDown_batch.append(fromDown_tensor)"
   ]
  },
  {
   "cell_type": "code",
   "execution_count": 7,
   "id": "b054dbd5",
   "metadata": {},
   "outputs": [],
   "source": [
    "data_dict = {\"jet_batch\": jet_feats_batch,\n",
    "             \"jet_trk_batch\": jet_trk_feats_batch,\n",
    "             \"trk_batch\": trk_feats_batch,\n",
    "             \"label_batch\": labels_batch,\n",
    "            }\n",
    "\n",
    "with open(\"data_batched_MSE.pkl\",\"wb\") as f:\n",
    "    pickle.dump(data_dict, f)"
   ]
  },
  {
   "cell_type": "code",
   "execution_count": null,
   "id": "cb32ad9f",
   "metadata": {},
   "outputs": [],
   "source": []
  }
 ],
 "metadata": {
  "kernelspec": {
   "display_name": "torch",
   "language": "python",
   "name": "torch"
  },
  "language_info": {
   "codemirror_mode": {
    "name": "ipython",
    "version": 3
   },
   "file_extension": ".py",
   "mimetype": "text/x-python",
   "name": "python",
   "nbconvert_exporter": "python",
   "pygments_lexer": "ipython3",
   "version": "3.10.12"
  }
 },
 "nbformat": 4,
 "nbformat_minor": 5
}
